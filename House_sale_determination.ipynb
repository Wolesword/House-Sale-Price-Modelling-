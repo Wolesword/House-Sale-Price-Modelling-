{
  "nbformat": 4,
  "nbformat_minor": 0,
  "metadata": {
    "kernelspec": {
      "display_name": "Python 3",
      "language": "python",
      "name": "python3"
    },
    "language_info": {
      "codemirror_mode": {
        "name": "ipython",
        "version": 3
      },
      "file_extension": ".py",
      "mimetype": "text/x-python",
      "name": "python",
      "nbconvert_exporter": "python",
      "pygments_lexer": "ipython3",
      "version": "3.8.5"
    },
    "colab": {
      "name": "House sale determination.ipynb",
      "provenance": []
    }
  },
  "cells": [
    {
      "cell_type": "markdown",
      "metadata": {
        "id": "jye12BF0hZUO"
      },
      "source": [
        "## Analysis of Housing data\n",
        "\n",
        "Hi there 👋, Please find inside this repository a code which analyses the housing cost based on relevant housing information.\n",
        "\n",
        "Estimating the price of a house is an important step for new home buyers. This dataset indicates some using features in estimating the sale price of a house. In this analysis, I demonstrate and compare using of Principal component regression, model selection and ordinary linear regression in predicting the Sales price.\n",
        "\n",
        "Furthermore, I have added few visualisations and descriptive steps during the cleaning of the dataset to offer additional insight on the data presented and answer some of the questions below:\n",
        "\n",
        "    🤔 Is my dataset complete or does it contain nulls?\n",
        "    🤔 What are my categorical features and could I encode them?\n",
        "    🤔 Are all my datatypes correct?\n",
        "    👯 and many more...\n",
        "\n",
        "It is still a work in progress and open to suggestions.\n",
        "\n",
        "Cheers. W"
      ]
    },
    {
      "cell_type": "code",
      "metadata": {
        "id": "KEfWJd1b4y1O"
      },
      "source": [
        "import pandas as pd\n",
        "house = pd.read_csv('house_small.csv')"
      ],
      "execution_count": null,
      "outputs": []
    },
    {
      "cell_type": "code",
      "metadata": {
        "colab": {
          "base_uri": "https://localhost:8080/",
          "height": 232
        },
        "id": "59Uw31WlawD-",
        "outputId": "fe019fa5-1a98-4219-bbca-5855a09a5def"
      },
      "source": [
        "house.head()"
      ],
      "execution_count": null,
      "outputs": [
        {
          "output_type": "execute_result",
          "data": {
            "text/html": [
              "<div>\n",
              "<style scoped>\n",
              "    .dataframe tbody tr th:only-of-type {\n",
              "        vertical-align: middle;\n",
              "    }\n",
              "\n",
              "    .dataframe tbody tr th {\n",
              "        vertical-align: top;\n",
              "    }\n",
              "\n",
              "    .dataframe thead th {\n",
              "        text-align: right;\n",
              "    }\n",
              "</style>\n",
              "<table border=\"1\" class=\"dataframe\">\n",
              "  <thead>\n",
              "    <tr style=\"text-align: right;\">\n",
              "      <th></th>\n",
              "      <th>Unnamed: 0</th>\n",
              "      <th>Sq_Ft_Tot_Living</th>\n",
              "      <th>Sq_Ft_Lot</th>\n",
              "      <th>Bathroom_count</th>\n",
              "      <th>Bedroom_count</th>\n",
              "      <th>Bldg_Grade</th>\n",
              "      <th>Property_Type</th>\n",
              "      <th>Nbr_Living_Units</th>\n",
              "      <th>Sq_Ft_Fin_Basement</th>\n",
              "      <th>Yr_Built</th>\n",
              "      <th>Yr_Renovated</th>\n",
              "      <th>Newly_Construction</th>\n",
              "      <th>House_Sale_Price</th>\n",
              "    </tr>\n",
              "  </thead>\n",
              "  <tbody>\n",
              "    <tr>\n",
              "      <th>0</th>\n",
              "      <td>1</td>\n",
              "      <td>2400</td>\n",
              "      <td>9373</td>\n",
              "      <td>3.00</td>\n",
              "      <td>6</td>\n",
              "      <td>7</td>\n",
              "      <td>Multiplex</td>\n",
              "      <td>2</td>\n",
              "      <td>0</td>\n",
              "      <td>1991</td>\n",
              "      <td>0</td>\n",
              "      <td>False</td>\n",
              "      <td>300805.0</td>\n",
              "    </tr>\n",
              "    <tr>\n",
              "      <th>1</th>\n",
              "      <td>2</td>\n",
              "      <td>3764</td>\n",
              "      <td>20156</td>\n",
              "      <td>3.75</td>\n",
              "      <td>4</td>\n",
              "      <td>10</td>\n",
              "      <td>Single Family</td>\n",
              "      <td>1</td>\n",
              "      <td>1452</td>\n",
              "      <td>2005</td>\n",
              "      <td>0</td>\n",
              "      <td>True</td>\n",
              "      <td>1076162.0</td>\n",
              "    </tr>\n",
              "    <tr>\n",
              "      <th>2</th>\n",
              "      <td>3</td>\n",
              "      <td>2060</td>\n",
              "      <td>26036</td>\n",
              "      <td>1.75</td>\n",
              "      <td>4</td>\n",
              "      <td>8</td>\n",
              "      <td>Single Family</td>\n",
              "      <td>1</td>\n",
              "      <td>900</td>\n",
              "      <td>1947</td>\n",
              "      <td>0</td>\n",
              "      <td>False</td>\n",
              "      <td>761805.0</td>\n",
              "    </tr>\n",
              "    <tr>\n",
              "      <th>3</th>\n",
              "      <td>4</td>\n",
              "      <td>3200</td>\n",
              "      <td>8618</td>\n",
              "      <td>3.75</td>\n",
              "      <td>5</td>\n",
              "      <td>7</td>\n",
              "      <td>Single Family</td>\n",
              "      <td>1</td>\n",
              "      <td>1640</td>\n",
              "      <td>1966</td>\n",
              "      <td>0</td>\n",
              "      <td>False</td>\n",
              "      <td>442065.0</td>\n",
              "    </tr>\n",
              "    <tr>\n",
              "      <th>4</th>\n",
              "      <td>5</td>\n",
              "      <td>1720</td>\n",
              "      <td>8620</td>\n",
              "      <td>1.75</td>\n",
              "      <td>4</td>\n",
              "      <td>7</td>\n",
              "      <td>Single Family</td>\n",
              "      <td>1</td>\n",
              "      <td>0</td>\n",
              "      <td>1948</td>\n",
              "      <td>0</td>\n",
              "      <td>False</td>\n",
              "      <td>297065.0</td>\n",
              "    </tr>\n",
              "  </tbody>\n",
              "</table>\n",
              "</div>"
            ],
            "text/plain": [
              "   Unnamed: 0  Sq_Ft_Tot_Living  Sq_Ft_Lot  Bathroom_count  Bedroom_count  \\\n",
              "0           1              2400       9373            3.00              6   \n",
              "1           2              3764      20156            3.75              4   \n",
              "2           3              2060      26036            1.75              4   \n",
              "3           4              3200       8618            3.75              5   \n",
              "4           5              1720       8620            1.75              4   \n",
              "\n",
              "   Bldg_Grade  Property_Type  Nbr_Living_Units  Sq_Ft_Fin_Basement  Yr_Built  \\\n",
              "0           7      Multiplex                 2                   0      1991   \n",
              "1          10  Single Family                 1                1452      2005   \n",
              "2           8  Single Family                 1                 900      1947   \n",
              "3           7  Single Family                 1                1640      1966   \n",
              "4           7  Single Family                 1                   0      1948   \n",
              "\n",
              "   Yr_Renovated  Newly_Construction  House_Sale_Price  \n",
              "0             0               False          300805.0  \n",
              "1             0                True         1076162.0  \n",
              "2             0               False          761805.0  \n",
              "3             0               False          442065.0  \n",
              "4             0               False          297065.0  "
            ]
          },
          "metadata": {
            "tags": []
          },
          "execution_count": 2
        }
      ]
    },
    {
      "cell_type": "code",
      "metadata": {
        "id": "Zel1ZRJOcyyA"
      },
      "source": [
        "house = house.drop(labels=['Unnamed: 0'], axis=1)"
      ],
      "execution_count": null,
      "outputs": []
    },
    {
      "cell_type": "code",
      "metadata": {
        "colab": {
          "base_uri": "https://localhost:8080/"
        },
        "id": "Q07wq8qCayXM",
        "outputId": "08205691-e9d0-46de-9153-66770e728dc5"
      },
      "source": [
        "house.info()"
      ],
      "execution_count": null,
      "outputs": [
        {
          "output_type": "stream",
          "text": [
            "<class 'pandas.core.frame.DataFrame'>\n",
            "RangeIndex: 22689 entries, 0 to 22688\n",
            "Data columns (total 12 columns):\n",
            " #   Column              Non-Null Count  Dtype  \n",
            "---  ------              --------------  -----  \n",
            " 0   Sq_Ft_Tot_Living    22689 non-null  int64  \n",
            " 1   Sq_Ft_Lot           22689 non-null  int64  \n",
            " 2   Bathroom_count      22689 non-null  float64\n",
            " 3   Bedroom_count       22689 non-null  int64  \n",
            " 4   Bldg_Grade          22689 non-null  int64  \n",
            " 5   Property_Type       22689 non-null  object \n",
            " 6   Nbr_Living_Units    22689 non-null  int64  \n",
            " 7   Sq_Ft_Fin_Basement  22689 non-null  int64  \n",
            " 8   Yr_Built            22689 non-null  int64  \n",
            " 9   Yr_Renovated        22689 non-null  int64  \n",
            " 10  Newly_Construction  22689 non-null  bool   \n",
            " 11  House_Sale_Price    22689 non-null  float64\n",
            "dtypes: bool(1), float64(2), int64(8), object(1)\n",
            "memory usage: 1.9+ MB\n"
          ],
          "name": "stdout"
        }
      ]
    },
    {
      "cell_type": "code",
      "metadata": {
        "colab": {
          "base_uri": "https://localhost:8080/",
          "height": 393
        },
        "id": "owxGJaUQdhHm",
        "outputId": "7f2b9b2a-fc36-497d-99b8-e685f0011c68"
      },
      "source": [
        "house.describe(include='all')"
      ],
      "execution_count": null,
      "outputs": [
        {
          "output_type": "execute_result",
          "data": {
            "text/html": [
              "<div>\n",
              "<style scoped>\n",
              "    .dataframe tbody tr th:only-of-type {\n",
              "        vertical-align: middle;\n",
              "    }\n",
              "\n",
              "    .dataframe tbody tr th {\n",
              "        vertical-align: top;\n",
              "    }\n",
              "\n",
              "    .dataframe thead th {\n",
              "        text-align: right;\n",
              "    }\n",
              "</style>\n",
              "<table border=\"1\" class=\"dataframe\">\n",
              "  <thead>\n",
              "    <tr style=\"text-align: right;\">\n",
              "      <th></th>\n",
              "      <th>Sq_Ft_Tot_Living</th>\n",
              "      <th>Sq_Ft_Lot</th>\n",
              "      <th>Bathroom_count</th>\n",
              "      <th>Bedroom_count</th>\n",
              "      <th>Bldg_Grade</th>\n",
              "      <th>Property_Type</th>\n",
              "      <th>Nbr_Living_Units</th>\n",
              "      <th>Sq_Ft_Fin_Basement</th>\n",
              "      <th>Yr_Built</th>\n",
              "      <th>Yr_Renovated</th>\n",
              "      <th>Newly_Construction</th>\n",
              "      <th>House_Sale_Price</th>\n",
              "    </tr>\n",
              "  </thead>\n",
              "  <tbody>\n",
              "    <tr>\n",
              "      <th>count</th>\n",
              "      <td>22689.000000</td>\n",
              "      <td>2.268900e+04</td>\n",
              "      <td>22689.000000</td>\n",
              "      <td>22689.000000</td>\n",
              "      <td>22689.000000</td>\n",
              "      <td>22689</td>\n",
              "      <td>22689.000000</td>\n",
              "      <td>22689.000000</td>\n",
              "      <td>22689.000000</td>\n",
              "      <td>22689.000000</td>\n",
              "      <td>22689</td>\n",
              "      <td>2.268900e+04</td>\n",
              "    </tr>\n",
              "    <tr>\n",
              "      <th>unique</th>\n",
              "      <td>NaN</td>\n",
              "      <td>NaN</td>\n",
              "      <td>NaN</td>\n",
              "      <td>NaN</td>\n",
              "      <td>NaN</td>\n",
              "      <td>3</td>\n",
              "      <td>NaN</td>\n",
              "      <td>NaN</td>\n",
              "      <td>NaN</td>\n",
              "      <td>NaN</td>\n",
              "      <td>2</td>\n",
              "      <td>NaN</td>\n",
              "    </tr>\n",
              "    <tr>\n",
              "      <th>top</th>\n",
              "      <td>NaN</td>\n",
              "      <td>NaN</td>\n",
              "      <td>NaN</td>\n",
              "      <td>NaN</td>\n",
              "      <td>NaN</td>\n",
              "      <td>Single Family</td>\n",
              "      <td>NaN</td>\n",
              "      <td>NaN</td>\n",
              "      <td>NaN</td>\n",
              "      <td>NaN</td>\n",
              "      <td>False</td>\n",
              "      <td>NaN</td>\n",
              "    </tr>\n",
              "    <tr>\n",
              "      <th>freq</th>\n",
              "      <td>NaN</td>\n",
              "      <td>NaN</td>\n",
              "      <td>NaN</td>\n",
              "      <td>NaN</td>\n",
              "      <td>NaN</td>\n",
              "      <td>20722</td>\n",
              "      <td>NaN</td>\n",
              "      <td>NaN</td>\n",
              "      <td>NaN</td>\n",
              "      <td>NaN</td>\n",
              "      <td>20295</td>\n",
              "      <td>NaN</td>\n",
              "    </tr>\n",
              "    <tr>\n",
              "      <th>mean</th>\n",
              "      <td>2080.258275</td>\n",
              "      <td>1.174621e+04</td>\n",
              "      <td>2.176550</td>\n",
              "      <td>3.367843</td>\n",
              "      <td>7.680991</td>\n",
              "      <td>NaN</td>\n",
              "      <td>1.018820</td>\n",
              "      <td>293.240072</td>\n",
              "      <td>1971.194588</td>\n",
              "      <td>102.305743</td>\n",
              "      <td>NaN</td>\n",
              "      <td>5.652523e+05</td>\n",
              "    </tr>\n",
              "    <tr>\n",
              "      <th>std</th>\n",
              "      <td>913.791565</td>\n",
              "      <td>2.901475e+04</td>\n",
              "      <td>0.768044</td>\n",
              "      <td>0.904414</td>\n",
              "      <td>1.180565</td>\n",
              "      <td>NaN</td>\n",
              "      <td>0.159745</td>\n",
              "      <td>439.449560</td>\n",
              "      <td>30.315556</td>\n",
              "      <td>440.560634</td>\n",
              "      <td>NaN</td>\n",
              "      <td>3.854195e+05</td>\n",
              "    </tr>\n",
              "    <tr>\n",
              "      <th>min</th>\n",
              "      <td>370.000000</td>\n",
              "      <td>4.940000e+02</td>\n",
              "      <td>0.000000</td>\n",
              "      <td>0.000000</td>\n",
              "      <td>3.000000</td>\n",
              "      <td>NaN</td>\n",
              "      <td>1.000000</td>\n",
              "      <td>0.000000</td>\n",
              "      <td>1900.000000</td>\n",
              "      <td>0.000000</td>\n",
              "      <td>NaN</td>\n",
              "      <td>3.368000e+03</td>\n",
              "    </tr>\n",
              "    <tr>\n",
              "      <th>25%</th>\n",
              "      <td>1420.000000</td>\n",
              "      <td>4.800000e+03</td>\n",
              "      <td>1.750000</td>\n",
              "      <td>3.000000</td>\n",
              "      <td>7.000000</td>\n",
              "      <td>NaN</td>\n",
              "      <td>1.000000</td>\n",
              "      <td>0.000000</td>\n",
              "      <td>1950.000000</td>\n",
              "      <td>0.000000</td>\n",
              "      <td>NaN</td>\n",
              "      <td>3.605630e+05</td>\n",
              "    </tr>\n",
              "    <tr>\n",
              "      <th>50%</th>\n",
              "      <td>1910.000000</td>\n",
              "      <td>7.200000e+03</td>\n",
              "      <td>2.250000</td>\n",
              "      <td>3.000000</td>\n",
              "      <td>7.000000</td>\n",
              "      <td>NaN</td>\n",
              "      <td>1.000000</td>\n",
              "      <td>0.000000</td>\n",
              "      <td>1977.000000</td>\n",
              "      <td>0.000000</td>\n",
              "      <td>NaN</td>\n",
              "      <td>4.713150e+05</td>\n",
              "    </tr>\n",
              "    <tr>\n",
              "      <th>75%</th>\n",
              "      <td>2540.000000</td>\n",
              "      <td>9.794000e+03</td>\n",
              "      <td>2.500000</td>\n",
              "      <td>4.000000</td>\n",
              "      <td>8.000000</td>\n",
              "      <td>NaN</td>\n",
              "      <td>1.000000</td>\n",
              "      <td>580.000000</td>\n",
              "      <td>2000.000000</td>\n",
              "      <td>0.000000</td>\n",
              "      <td>NaN</td>\n",
              "      <td>6.494430e+05</td>\n",
              "    </tr>\n",
              "    <tr>\n",
              "      <th>max</th>\n",
              "      <td>10740.000000</td>\n",
              "      <td>1.024068e+06</td>\n",
              "      <td>8.000000</td>\n",
              "      <td>33.000000</td>\n",
              "      <td>13.000000</td>\n",
              "      <td>NaN</td>\n",
              "      <td>5.000000</td>\n",
              "      <td>3500.000000</td>\n",
              "      <td>2015.000000</td>\n",
              "      <td>2016.000000</td>\n",
              "      <td>NaN</td>\n",
              "      <td>1.164486e+07</td>\n",
              "    </tr>\n",
              "  </tbody>\n",
              "</table>\n",
              "</div>"
            ],
            "text/plain": [
              "        Sq_Ft_Tot_Living     Sq_Ft_Lot  Bathroom_count  Bedroom_count  \\\n",
              "count       22689.000000  2.268900e+04    22689.000000   22689.000000   \n",
              "unique               NaN           NaN             NaN            NaN   \n",
              "top                  NaN           NaN             NaN            NaN   \n",
              "freq                 NaN           NaN             NaN            NaN   \n",
              "mean         2080.258275  1.174621e+04        2.176550       3.367843   \n",
              "std           913.791565  2.901475e+04        0.768044       0.904414   \n",
              "min           370.000000  4.940000e+02        0.000000       0.000000   \n",
              "25%          1420.000000  4.800000e+03        1.750000       3.000000   \n",
              "50%          1910.000000  7.200000e+03        2.250000       3.000000   \n",
              "75%          2540.000000  9.794000e+03        2.500000       4.000000   \n",
              "max         10740.000000  1.024068e+06        8.000000      33.000000   \n",
              "\n",
              "          Bldg_Grade  Property_Type  Nbr_Living_Units  Sq_Ft_Fin_Basement  \\\n",
              "count   22689.000000          22689      22689.000000        22689.000000   \n",
              "unique           NaN              3               NaN                 NaN   \n",
              "top              NaN  Single Family               NaN                 NaN   \n",
              "freq             NaN          20722               NaN                 NaN   \n",
              "mean        7.680991            NaN          1.018820          293.240072   \n",
              "std         1.180565            NaN          0.159745          439.449560   \n",
              "min         3.000000            NaN          1.000000            0.000000   \n",
              "25%         7.000000            NaN          1.000000            0.000000   \n",
              "50%         7.000000            NaN          1.000000            0.000000   \n",
              "75%         8.000000            NaN          1.000000          580.000000   \n",
              "max        13.000000            NaN          5.000000         3500.000000   \n",
              "\n",
              "            Yr_Built  Yr_Renovated Newly_Construction  House_Sale_Price  \n",
              "count   22689.000000  22689.000000              22689      2.268900e+04  \n",
              "unique           NaN           NaN                  2               NaN  \n",
              "top              NaN           NaN              False               NaN  \n",
              "freq             NaN           NaN              20295               NaN  \n",
              "mean     1971.194588    102.305743                NaN      5.652523e+05  \n",
              "std        30.315556    440.560634                NaN      3.854195e+05  \n",
              "min      1900.000000      0.000000                NaN      3.368000e+03  \n",
              "25%      1950.000000      0.000000                NaN      3.605630e+05  \n",
              "50%      1977.000000      0.000000                NaN      4.713150e+05  \n",
              "75%      2000.000000      0.000000                NaN      6.494430e+05  \n",
              "max      2015.000000   2016.000000                NaN      1.164486e+07  "
            ]
          },
          "metadata": {
            "tags": []
          },
          "execution_count": 5
        }
      ]
    },
    {
      "cell_type": "markdown",
      "metadata": {
        "id": "KZWV2PYVhVeO"
      },
      "source": [
        "Do you have any missing values?"
      ]
    },
    {
      "cell_type": "markdown",
      "metadata": {
        "id": "YXfa_tPKdqRj"
      },
      "source": [
        "You can see that there are 3 distinct type of properties. Convert this column to one hot encoding"
      ]
    },
    {
      "cell_type": "code",
      "metadata": {
        "id": "bi3Em0iRazxE"
      },
      "source": [
        "from sklearn.preprocessing import OneHotEncoder\n",
        "enc = OneHotEncoder()"
      ],
      "execution_count": null,
      "outputs": []
    },
    {
      "cell_type": "code",
      "metadata": {
        "scrolled": true,
        "id": "XHSmRQ4LazxE"
      },
      "source": [
        "Property_Encoded = pd.DataFrame(enc.fit_transform(house[['Property_Type']]).toarray())"
      ],
      "execution_count": null,
      "outputs": []
    },
    {
      "cell_type": "code",
      "metadata": {
        "id": "zxcSwbNGazxF",
        "outputId": "69486449-032d-45f4-be75-9352bf023a60"
      },
      "source": [
        "Property_Encoded.info()"
      ],
      "execution_count": null,
      "outputs": [
        {
          "output_type": "stream",
          "text": [
            "<class 'pandas.core.frame.DataFrame'>\n",
            "RangeIndex: 22689 entries, 0 to 22688\n",
            "Data columns (total 3 columns):\n",
            " #   Column  Non-Null Count  Dtype\n",
            "---  ------  --------------  -----\n",
            " 0   0       22689 non-null  int32\n",
            " 1   1       22689 non-null  int32\n",
            " 2   2       22689 non-null  int32\n",
            "dtypes: int32(3)\n",
            "memory usage: 266.0 KB\n"
          ],
          "name": "stdout"
        }
      ]
    },
    {
      "cell_type": "code",
      "metadata": {
        "id": "mcf4DPlsazxG"
      },
      "source": [
        "def to_num (Lister):\n",
        "    for i in range(0, len(Lister.columns)):\n",
        "        Lister[i] = (Lister[i]).astype(int)"
      ],
      "execution_count": null,
      "outputs": []
    },
    {
      "cell_type": "code",
      "metadata": {
        "id": "gEIdAlJcazxH"
      },
      "source": [
        "to_num(Property_Encoded)"
      ],
      "execution_count": null,
      "outputs": []
    },
    {
      "cell_type": "code",
      "metadata": {
        "id": "eJkT6fWLazxI",
        "outputId": "ba25b040-3111-409d-e2c6-c2137aa69042"
      },
      "source": [
        "Property_Encoded.head(1)"
      ],
      "execution_count": null,
      "outputs": [
        {
          "output_type": "execute_result",
          "data": {
            "text/html": [
              "<div>\n",
              "<style scoped>\n",
              "    .dataframe tbody tr th:only-of-type {\n",
              "        vertical-align: middle;\n",
              "    }\n",
              "\n",
              "    .dataframe tbody tr th {\n",
              "        vertical-align: top;\n",
              "    }\n",
              "\n",
              "    .dataframe thead th {\n",
              "        text-align: right;\n",
              "    }\n",
              "</style>\n",
              "<table border=\"1\" class=\"dataframe\">\n",
              "  <thead>\n",
              "    <tr style=\"text-align: right;\">\n",
              "      <th></th>\n",
              "      <th>Property_Multiplex</th>\n",
              "      <th>Property_Single Family</th>\n",
              "      <th>Property_Townhouse</th>\n",
              "    </tr>\n",
              "  </thead>\n",
              "  <tbody>\n",
              "    <tr>\n",
              "      <th>0</th>\n",
              "      <td>1</td>\n",
              "      <td>0</td>\n",
              "      <td>0</td>\n",
              "    </tr>\n",
              "  </tbody>\n",
              "</table>\n",
              "</div>"
            ],
            "text/plain": [
              "   Property_Multiplex  Property_Single Family  Property_Townhouse\n",
              "0                   1                       0                   0"
            ]
          },
          "metadata": {
            "tags": []
          },
          "execution_count": 70
        }
      ]
    },
    {
      "cell_type": "code",
      "metadata": {
        "id": "OWB4SjCaazxJ",
        "outputId": "2fbd22d9-7117-4970-e1c9-1be1f73fd646"
      },
      "source": [
        "house['Property_Type'].unique()"
      ],
      "execution_count": null,
      "outputs": [
        {
          "output_type": "execute_result",
          "data": {
            "text/plain": [
              "array(['Multiplex', 'Single Family', 'Townhouse'], dtype=object)"
            ]
          },
          "metadata": {
            "tags": []
          },
          "execution_count": 56
        }
      ]
    },
    {
      "cell_type": "code",
      "metadata": {
        "id": "jPRZ-m_8azxJ"
      },
      "source": [
        "Property_Encoded.columns = ['Property_Multiplex','Property_Single Family', 'Property_Townhouse']"
      ],
      "execution_count": null,
      "outputs": []
    },
    {
      "cell_type": "code",
      "metadata": {
        "id": "eKOJUpktazxJ"
      },
      "source": [
        "New_house = pd.merge(house, Property_Encoded, on=house.index)"
      ],
      "execution_count": null,
      "outputs": []
    },
    {
      "cell_type": "code",
      "metadata": {
        "id": "NuGgY0-sazxL"
      },
      "source": [
        "New_house.drop(['key_0','Property_Type'], axis= 1, inplace=True)"
      ],
      "execution_count": null,
      "outputs": []
    },
    {
      "cell_type": "code",
      "metadata": {
        "colab": {
          "base_uri": "https://localhost:8080/",
          "height": 232
        },
        "id": "y8027x3fdhEt",
        "outputId": "5118e426-3223-45fa-d004-f97b6eaf155d"
      },
      "source": [
        ""
      ],
      "execution_count": null,
      "outputs": [
        {
          "output_type": "execute_result",
          "data": {
            "text/html": [
              "<div>\n",
              "<style scoped>\n",
              "    .dataframe tbody tr th:only-of-type {\n",
              "        vertical-align: middle;\n",
              "    }\n",
              "\n",
              "    .dataframe tbody tr th {\n",
              "        vertical-align: top;\n",
              "    }\n",
              "\n",
              "    .dataframe thead th {\n",
              "        text-align: right;\n",
              "    }\n",
              "</style>\n",
              "<table border=\"1\" class=\"dataframe\">\n",
              "  <thead>\n",
              "    <tr style=\"text-align: right;\">\n",
              "      <th></th>\n",
              "      <th>Sq_Ft_Tot_Living</th>\n",
              "      <th>Sq_Ft_Lot</th>\n",
              "      <th>Bathroom_count</th>\n",
              "      <th>Bedroom_count</th>\n",
              "      <th>Bldg_Grade</th>\n",
              "      <th>Nbr_Living_Units</th>\n",
              "      <th>Sq_Ft_Fin_Basement</th>\n",
              "      <th>Yr_Built</th>\n",
              "      <th>Yr_Renovated</th>\n",
              "      <th>Newly_Construction</th>\n",
              "      <th>House_Sale_Price</th>\n",
              "      <th>Property_Multiplex</th>\n",
              "      <th>Property_Single Family</th>\n",
              "      <th>Property_Townhouse</th>\n",
              "    </tr>\n",
              "  </thead>\n",
              "  <tbody>\n",
              "    <tr>\n",
              "      <th>0</th>\n",
              "      <td>2400</td>\n",
              "      <td>9373</td>\n",
              "      <td>3.00</td>\n",
              "      <td>6</td>\n",
              "      <td>7</td>\n",
              "      <td>2</td>\n",
              "      <td>0</td>\n",
              "      <td>1991</td>\n",
              "      <td>0</td>\n",
              "      <td>False</td>\n",
              "      <td>300805.0</td>\n",
              "      <td>1</td>\n",
              "      <td>0</td>\n",
              "      <td>0</td>\n",
              "    </tr>\n",
              "    <tr>\n",
              "      <th>1</th>\n",
              "      <td>3764</td>\n",
              "      <td>20156</td>\n",
              "      <td>3.75</td>\n",
              "      <td>4</td>\n",
              "      <td>10</td>\n",
              "      <td>1</td>\n",
              "      <td>1452</td>\n",
              "      <td>2005</td>\n",
              "      <td>0</td>\n",
              "      <td>True</td>\n",
              "      <td>1076162.0</td>\n",
              "      <td>0</td>\n",
              "      <td>1</td>\n",
              "      <td>0</td>\n",
              "    </tr>\n",
              "    <tr>\n",
              "      <th>2</th>\n",
              "      <td>2060</td>\n",
              "      <td>26036</td>\n",
              "      <td>1.75</td>\n",
              "      <td>4</td>\n",
              "      <td>8</td>\n",
              "      <td>1</td>\n",
              "      <td>900</td>\n",
              "      <td>1947</td>\n",
              "      <td>0</td>\n",
              "      <td>False</td>\n",
              "      <td>761805.0</td>\n",
              "      <td>0</td>\n",
              "      <td>1</td>\n",
              "      <td>0</td>\n",
              "    </tr>\n",
              "    <tr>\n",
              "      <th>3</th>\n",
              "      <td>3200</td>\n",
              "      <td>8618</td>\n",
              "      <td>3.75</td>\n",
              "      <td>5</td>\n",
              "      <td>7</td>\n",
              "      <td>1</td>\n",
              "      <td>1640</td>\n",
              "      <td>1966</td>\n",
              "      <td>0</td>\n",
              "      <td>False</td>\n",
              "      <td>442065.0</td>\n",
              "      <td>0</td>\n",
              "      <td>1</td>\n",
              "      <td>0</td>\n",
              "    </tr>\n",
              "    <tr>\n",
              "      <th>4</th>\n",
              "      <td>1720</td>\n",
              "      <td>8620</td>\n",
              "      <td>1.75</td>\n",
              "      <td>4</td>\n",
              "      <td>7</td>\n",
              "      <td>1</td>\n",
              "      <td>0</td>\n",
              "      <td>1948</td>\n",
              "      <td>0</td>\n",
              "      <td>False</td>\n",
              "      <td>297065.0</td>\n",
              "      <td>0</td>\n",
              "      <td>1</td>\n",
              "      <td>0</td>\n",
              "    </tr>\n",
              "  </tbody>\n",
              "</table>\n",
              "</div>"
            ],
            "text/plain": [
              "   Sq_Ft_Tot_Living  Sq_Ft_Lot  ...  Property_Single Family  Property_Townhouse\n",
              "0              2400       9373  ...                       0                   0\n",
              "1              3764      20156  ...                       1                   0\n",
              "2              2060      26036  ...                       1                   0\n",
              "3              3200       8618  ...                       1                   0\n",
              "4              1720       8620  ...                       1                   0\n",
              "\n",
              "[5 rows x 14 columns]"
            ]
          },
          "metadata": {
            "tags": []
          },
          "execution_count": 126
        }
      ]
    },
    {
      "cell_type": "markdown",
      "metadata": {
        "id": "kHy_9FM0eq8q"
      },
      "source": [
        "Next, one of the column is of datatype boolean. Convert it to numeric type. "
      ]
    },
    {
      "cell_type": "code",
      "metadata": {
        "id": "z6udHWo8azxL"
      },
      "source": [
        "New_house['Newly_Construction'] = New_house.Newly_Construction.factorize()[0]"
      ],
      "execution_count": null,
      "outputs": []
    },
    {
      "cell_type": "code",
      "metadata": {
        "id": "9y5e9u39azxM"
      },
      "source": [
        "# quick check to see what I am doing\n",
        "for i in range(0, len(New_house['Newly_Construction'])):\n",
        "    if New_house['Newly_Construction'].iloc[i] == 1:\n",
        "        pass #print(i)"
      ],
      "execution_count": null,
      "outputs": []
    },
    {
      "cell_type": "code",
      "metadata": {
        "id": "NIE2NUzFazxM",
        "outputId": "0470bdbc-9dd9-431c-f3df-9366d17a7b70"
      },
      "source": [
        " New_house['Newly_Construction'].iloc[7]"
      ],
      "execution_count": null,
      "outputs": [
        {
          "output_type": "execute_result",
          "data": {
            "text/plain": [
              "0"
            ]
          },
          "metadata": {
            "tags": []
          },
          "execution_count": 119
        }
      ]
    },
    {
      "cell_type": "code",
      "metadata": {
        "id": "Xk3JASusazxM",
        "outputId": "4d422495-1fdc-4d90-f366-50b9dcdd727e"
      },
      "source": [
        "New_house.info(0)"
      ],
      "execution_count": null,
      "outputs": [
        {
          "output_type": "stream",
          "text": [
            "<class 'pandas.core.frame.DataFrame'>\n",
            "Int64Index: 22689 entries, 0 to 22688\n",
            "Data columns (total 14 columns):\n",
            " #   Column                  Non-Null Count  Dtype  \n",
            "---  ------                  --------------  -----  \n",
            " 0   Sq_Ft_Tot_Living        22689 non-null  int64  \n",
            " 1   Sq_Ft_Lot               22689 non-null  int64  \n",
            " 2   Bathroom_count          22689 non-null  float64\n",
            " 3   Bedroom_count           22689 non-null  int64  \n",
            " 4   Bldg_Grade              22689 non-null  int64  \n",
            " 5   Nbr_Living_Units        22689 non-null  int64  \n",
            " 6   Sq_Ft_Fin_Basement      22689 non-null  int64  \n",
            " 7   Yr_Built                22689 non-null  int64  \n",
            " 8   Yr_Renovated            22689 non-null  int64  \n",
            " 9   Newly_Construction      22689 non-null  int64  \n",
            " 10  House_Sale_Price        22689 non-null  float64\n",
            " 11  Property_Multiplex      22689 non-null  int32  \n",
            " 12  Property_Single Family  22689 non-null  int32  \n",
            " 13  Property_Townhouse      22689 non-null  int32  \n",
            "dtypes: float64(2), int32(3), int64(9)\n",
            "memory usage: 3.0 MB\n"
          ],
          "name": "stdout"
        }
      ]
    },
    {
      "cell_type": "code",
      "metadata": {
        "id": "YBj04z2SazxM",
        "outputId": "760d584d-976d-40cd-e704-6dbfdd3c5989"
      },
      "source": [
        "New_house.head(6)"
      ],
      "execution_count": null,
      "outputs": [
        {
          "output_type": "execute_result",
          "data": {
            "text/html": [
              "<div>\n",
              "<style scoped>\n",
              "    .dataframe tbody tr th:only-of-type {\n",
              "        vertical-align: middle;\n",
              "    }\n",
              "\n",
              "    .dataframe tbody tr th {\n",
              "        vertical-align: top;\n",
              "    }\n",
              "\n",
              "    .dataframe thead th {\n",
              "        text-align: right;\n",
              "    }\n",
              "</style>\n",
              "<table border=\"1\" class=\"dataframe\">\n",
              "  <thead>\n",
              "    <tr style=\"text-align: right;\">\n",
              "      <th></th>\n",
              "      <th>Sq_Ft_Tot_Living</th>\n",
              "      <th>Sq_Ft_Lot</th>\n",
              "      <th>Bathroom_count</th>\n",
              "      <th>Bedroom_count</th>\n",
              "      <th>Bldg_Grade</th>\n",
              "      <th>Nbr_Living_Units</th>\n",
              "      <th>Sq_Ft_Fin_Basement</th>\n",
              "      <th>Yr_Built</th>\n",
              "      <th>Yr_Renovated</th>\n",
              "      <th>Newly_Construction</th>\n",
              "      <th>House_Sale_Price</th>\n",
              "      <th>Property_Multiplex</th>\n",
              "      <th>Property_Single Family</th>\n",
              "      <th>Property_Townhouse</th>\n",
              "    </tr>\n",
              "  </thead>\n",
              "  <tbody>\n",
              "    <tr>\n",
              "      <th>0</th>\n",
              "      <td>2400</td>\n",
              "      <td>9373</td>\n",
              "      <td>3.00</td>\n",
              "      <td>6</td>\n",
              "      <td>7</td>\n",
              "      <td>2</td>\n",
              "      <td>0</td>\n",
              "      <td>1991</td>\n",
              "      <td>0</td>\n",
              "      <td>0</td>\n",
              "      <td>300805.0</td>\n",
              "      <td>1</td>\n",
              "      <td>0</td>\n",
              "      <td>0</td>\n",
              "    </tr>\n",
              "    <tr>\n",
              "      <th>1</th>\n",
              "      <td>3764</td>\n",
              "      <td>20156</td>\n",
              "      <td>3.75</td>\n",
              "      <td>4</td>\n",
              "      <td>10</td>\n",
              "      <td>1</td>\n",
              "      <td>1452</td>\n",
              "      <td>2005</td>\n",
              "      <td>0</td>\n",
              "      <td>1</td>\n",
              "      <td>1076162.0</td>\n",
              "      <td>0</td>\n",
              "      <td>1</td>\n",
              "      <td>0</td>\n",
              "    </tr>\n",
              "    <tr>\n",
              "      <th>2</th>\n",
              "      <td>2060</td>\n",
              "      <td>26036</td>\n",
              "      <td>1.75</td>\n",
              "      <td>4</td>\n",
              "      <td>8</td>\n",
              "      <td>1</td>\n",
              "      <td>900</td>\n",
              "      <td>1947</td>\n",
              "      <td>0</td>\n",
              "      <td>0</td>\n",
              "      <td>761805.0</td>\n",
              "      <td>0</td>\n",
              "      <td>1</td>\n",
              "      <td>0</td>\n",
              "    </tr>\n",
              "    <tr>\n",
              "      <th>3</th>\n",
              "      <td>3200</td>\n",
              "      <td>8618</td>\n",
              "      <td>3.75</td>\n",
              "      <td>5</td>\n",
              "      <td>7</td>\n",
              "      <td>1</td>\n",
              "      <td>1640</td>\n",
              "      <td>1966</td>\n",
              "      <td>0</td>\n",
              "      <td>0</td>\n",
              "      <td>442065.0</td>\n",
              "      <td>0</td>\n",
              "      <td>1</td>\n",
              "      <td>0</td>\n",
              "    </tr>\n",
              "    <tr>\n",
              "      <th>4</th>\n",
              "      <td>1720</td>\n",
              "      <td>8620</td>\n",
              "      <td>1.75</td>\n",
              "      <td>4</td>\n",
              "      <td>7</td>\n",
              "      <td>1</td>\n",
              "      <td>0</td>\n",
              "      <td>1948</td>\n",
              "      <td>0</td>\n",
              "      <td>0</td>\n",
              "      <td>297065.0</td>\n",
              "      <td>0</td>\n",
              "      <td>1</td>\n",
              "      <td>0</td>\n",
              "    </tr>\n",
              "    <tr>\n",
              "      <th>5</th>\n",
              "      <td>930</td>\n",
              "      <td>1012</td>\n",
              "      <td>1.50</td>\n",
              "      <td>2</td>\n",
              "      <td>8</td>\n",
              "      <td>1</td>\n",
              "      <td>0</td>\n",
              "      <td>2008</td>\n",
              "      <td>0</td>\n",
              "      <td>1</td>\n",
              "      <td>411781.0</td>\n",
              "      <td>0</td>\n",
              "      <td>0</td>\n",
              "      <td>1</td>\n",
              "    </tr>\n",
              "  </tbody>\n",
              "</table>\n",
              "</div>"
            ],
            "text/plain": [
              "   Sq_Ft_Tot_Living  Sq_Ft_Lot  Bathroom_count  Bedroom_count  Bldg_Grade  \\\n",
              "0              2400       9373            3.00              6           7   \n",
              "1              3764      20156            3.75              4          10   \n",
              "2              2060      26036            1.75              4           8   \n",
              "3              3200       8618            3.75              5           7   \n",
              "4              1720       8620            1.75              4           7   \n",
              "5               930       1012            1.50              2           8   \n",
              "\n",
              "   Nbr_Living_Units  Sq_Ft_Fin_Basement  Yr_Built  Yr_Renovated  \\\n",
              "0                 2                   0      1991             0   \n",
              "1                 1                1452      2005             0   \n",
              "2                 1                 900      1947             0   \n",
              "3                 1                1640      1966             0   \n",
              "4                 1                   0      1948             0   \n",
              "5                 1                   0      2008             0   \n",
              "\n",
              "   Newly_Construction  House_Sale_Price  Property_Multiplex  \\\n",
              "0                   0          300805.0                   1   \n",
              "1                   1         1076162.0                   0   \n",
              "2                   0          761805.0                   0   \n",
              "3                   0          442065.0                   0   \n",
              "4                   0          297065.0                   0   \n",
              "5                   1          411781.0                   0   \n",
              "\n",
              "   Property_Single Family  Property_Townhouse  \n",
              "0                       0                   0  \n",
              "1                       1                   0  \n",
              "2                       1                   0  \n",
              "3                       1                   0  \n",
              "4                       1                   0  \n",
              "5                       0                   1  "
            ]
          },
          "metadata": {
            "tags": []
          },
          "execution_count": 150
        }
      ]
    },
    {
      "cell_type": "code",
      "metadata": {
        "colab": {
          "base_uri": "https://localhost:8080/",
          "height": 232
        },
        "id": "bL92LDPse1lk",
        "outputId": "9326ed4f-7e3f-443d-89b4-911c5a6e6793"
      },
      "source": [
        ""
      ],
      "execution_count": null,
      "outputs": [
        {
          "output_type": "execute_result",
          "data": {
            "text/html": [
              "<div>\n",
              "<style scoped>\n",
              "    .dataframe tbody tr th:only-of-type {\n",
              "        vertical-align: middle;\n",
              "    }\n",
              "\n",
              "    .dataframe tbody tr th {\n",
              "        vertical-align: top;\n",
              "    }\n",
              "\n",
              "    .dataframe thead th {\n",
              "        text-align: right;\n",
              "    }\n",
              "</style>\n",
              "<table border=\"1\" class=\"dataframe\">\n",
              "  <thead>\n",
              "    <tr style=\"text-align: right;\">\n",
              "      <th></th>\n",
              "      <th>Sq_Ft_Tot_Living</th>\n",
              "      <th>Sq_Ft_Lot</th>\n",
              "      <th>Bathroom_count</th>\n",
              "      <th>Bedroom_count</th>\n",
              "      <th>Bldg_Grade</th>\n",
              "      <th>Nbr_Living_Units</th>\n",
              "      <th>Sq_Ft_Fin_Basement</th>\n",
              "      <th>Yr_Built</th>\n",
              "      <th>Yr_Renovated</th>\n",
              "      <th>Newly_Construction</th>\n",
              "      <th>House_Sale_Price</th>\n",
              "      <th>Property_Multiplex</th>\n",
              "      <th>Property_Single Family</th>\n",
              "      <th>Property_Townhouse</th>\n",
              "      <th>Newly_Construction2</th>\n",
              "    </tr>\n",
              "  </thead>\n",
              "  <tbody>\n",
              "    <tr>\n",
              "      <th>0</th>\n",
              "      <td>2400</td>\n",
              "      <td>9373</td>\n",
              "      <td>3.00</td>\n",
              "      <td>6</td>\n",
              "      <td>7</td>\n",
              "      <td>2</td>\n",
              "      <td>0</td>\n",
              "      <td>1991</td>\n",
              "      <td>0</td>\n",
              "      <td>False</td>\n",
              "      <td>300805.0</td>\n",
              "      <td>1</td>\n",
              "      <td>0</td>\n",
              "      <td>0</td>\n",
              "      <td>0</td>\n",
              "    </tr>\n",
              "    <tr>\n",
              "      <th>1</th>\n",
              "      <td>3764</td>\n",
              "      <td>20156</td>\n",
              "      <td>3.75</td>\n",
              "      <td>4</td>\n",
              "      <td>10</td>\n",
              "      <td>1</td>\n",
              "      <td>1452</td>\n",
              "      <td>2005</td>\n",
              "      <td>0</td>\n",
              "      <td>True</td>\n",
              "      <td>1076162.0</td>\n",
              "      <td>0</td>\n",
              "      <td>1</td>\n",
              "      <td>0</td>\n",
              "      <td>1</td>\n",
              "    </tr>\n",
              "    <tr>\n",
              "      <th>2</th>\n",
              "      <td>2060</td>\n",
              "      <td>26036</td>\n",
              "      <td>1.75</td>\n",
              "      <td>4</td>\n",
              "      <td>8</td>\n",
              "      <td>1</td>\n",
              "      <td>900</td>\n",
              "      <td>1947</td>\n",
              "      <td>0</td>\n",
              "      <td>False</td>\n",
              "      <td>761805.0</td>\n",
              "      <td>0</td>\n",
              "      <td>1</td>\n",
              "      <td>0</td>\n",
              "      <td>0</td>\n",
              "    </tr>\n",
              "    <tr>\n",
              "      <th>3</th>\n",
              "      <td>3200</td>\n",
              "      <td>8618</td>\n",
              "      <td>3.75</td>\n",
              "      <td>5</td>\n",
              "      <td>7</td>\n",
              "      <td>1</td>\n",
              "      <td>1640</td>\n",
              "      <td>1966</td>\n",
              "      <td>0</td>\n",
              "      <td>False</td>\n",
              "      <td>442065.0</td>\n",
              "      <td>0</td>\n",
              "      <td>1</td>\n",
              "      <td>0</td>\n",
              "      <td>0</td>\n",
              "    </tr>\n",
              "    <tr>\n",
              "      <th>4</th>\n",
              "      <td>1720</td>\n",
              "      <td>8620</td>\n",
              "      <td>1.75</td>\n",
              "      <td>4</td>\n",
              "      <td>7</td>\n",
              "      <td>1</td>\n",
              "      <td>0</td>\n",
              "      <td>1948</td>\n",
              "      <td>0</td>\n",
              "      <td>False</td>\n",
              "      <td>297065.0</td>\n",
              "      <td>0</td>\n",
              "      <td>1</td>\n",
              "      <td>0</td>\n",
              "      <td>0</td>\n",
              "    </tr>\n",
              "  </tbody>\n",
              "</table>\n",
              "</div>"
            ],
            "text/plain": [
              "   Sq_Ft_Tot_Living  Sq_Ft_Lot  ...  Property_Townhouse  Newly_Construction2\n",
              "0              2400       9373  ...                   0                    0\n",
              "1              3764      20156  ...                   0                    1\n",
              "2              2060      26036  ...                   0                    0\n",
              "3              3200       8618  ...                   0                    0\n",
              "4              1720       8620  ...                   0                    0\n",
              "\n",
              "[5 rows x 15 columns]"
            ]
          },
          "metadata": {
            "tags": []
          },
          "execution_count": 128
        }
      ]
    },
    {
      "cell_type": "markdown",
      "metadata": {
        "id": "JqFCnFO8fKiz"
      },
      "source": [
        "You cannot use the features written below as you must have added some features of your own for one-hot and converting the data types"
      ]
    },
    {
      "cell_type": "code",
      "metadata": {
        "id": "uGd3RvMFfliF",
        "outputId": "685608eb-edc1-4070-9f6b-e0cb9c688440"
      },
      "source": [
        "import seaborn as sns\n",
        "import matplotlib.pyplot as plt\n",
        "fig, ax = plt.subplots(1,2, figsize=(13, 5))\n",
        "sns.heatmap(New_house.corr(), ax=ax[0]) # Somewhat a spread out correlation\n",
        "sns.heatmap(New_house.isnull(), ax=ax[1]); # Missing values none"
      ],
      "execution_count": null,
      "outputs": [
        {
          "output_type": "display_data",
          "data": {
            "image/png": "[encoded data removed]",
            "text/plain": [
              "<Figure size 936x360 with 4 Axes>"
            ]
          },
          "metadata": {
            "tags": [],
            "needs_background": "light"
          }
        }
      ]
    },
    {
      "cell_type": "markdown",
      "metadata": {
        "id": "yEh6tmaRazxP"
      },
      "source": [
        "### Preparing my main datasets"
      ]
    },
    {
      "cell_type": "code",
      "metadata": {
        "id": "IguY-Tozflci"
      },
      "source": [
        "predictors = ['Sq_Ft_Tot_Living', 'Sq_Ft_Lot', 'Bathroom_count', 'Bedroom_count',\n",
        "              'Bldg_Grade', 'Nbr_Living_Units', 'Sq_Ft_Fin_Basement', \n",
        "              'Yr_Built', 'Yr_Renovated', 'Newly_Construction', 'Property_Multiplex',\n",
        "              'Property_Single Family', 'Property_Townhouse']"
      ],
      "execution_count": null,
      "outputs": []
    },
    {
      "cell_type": "code",
      "metadata": {
        "id": "lodtdxD0flZg"
      },
      "source": [
        "outcome = 'House_Sale_Price'"
      ],
      "execution_count": null,
      "outputs": []
    },
    {
      "cell_type": "code",
      "metadata": {
        "id": "4Ubddn_nazxQ"
      },
      "source": [
        "X = New_house[predictors]"
      ],
      "execution_count": null,
      "outputs": []
    },
    {
      "cell_type": "code",
      "metadata": {
        "id": "kLAEbblRazxQ"
      },
      "source": [
        "y = New_house[outcome]"
      ],
      "execution_count": null,
      "outputs": []
    },
    {
      "cell_type": "markdown",
      "metadata": {
        "id": "eHNeEZPvaNZk"
      },
      "source": [
        "Use your dataset to implement \n",
        "\n",
        "* pca regression, \n",
        "* Variable selection\n",
        "* Linear model with regression\n"
      ]
    },
    {
      "cell_type": "markdown",
      "metadata": {
        "id": "wwLPmpc8azxR"
      },
      "source": [
        "### Principal component regression analysis"
      ]
    },
    {
      "cell_type": "code",
      "metadata": {
        "id": "j1uVl_aMazxR"
      },
      "source": [
        "# initialization block for my libraries\n",
        "from sklearn.decomposition import PCA\n",
        "from sklearn.linear_model import LinearRegression\n",
        "from sklearn.model_selection import train_test_split\n",
        "from sklearn.ensemble import RandomForestRegressor\n",
        "from sklearn.feature_selection import SelectFromModel\n",
        "from sklearn.preprocessing import scale\n",
        "from sklearn.metrics import mean_absolute_error"
      ],
      "execution_count": null,
      "outputs": []
    },
    {
      "cell_type": "code",
      "metadata": {
        "id": "AeV0vZAhazxR"
      },
      "source": [
        "X_train, X_test, y_train, y_test = train_test_split(X, y, test_size=0.25, random_state=42)"
      ],
      "execution_count": null,
      "outputs": []
    },
    {
      "cell_type": "code",
      "metadata": {
        "id": "DOoSjrK2azxR",
        "outputId": "97e3c8f3-429b-44a3-9d5e-5a63628ed1a0"
      },
      "source": [
        "pca = PCA(n_components=2)\n",
        "X_scaled = scale(X) # Scaling explains much better the observations\n",
        "pca.fit(X_scaled) # fit the PCA first"
      ],
      "execution_count": null,
      "outputs": [
        {
          "output_type": "execute_result",
          "data": {
            "text/plain": [
              "PCA(n_components=2)"
            ]
          },
          "metadata": {
            "tags": []
          },
          "execution_count": 298
        }
      ]
    },
    {
      "cell_type": "code",
      "metadata": {
        "id": "kIKqfuP4azxS",
        "outputId": "88eb4340-d86b-4b1a-9cdd-9d0dffb483f6"
      },
      "source": [
        "pca.explained_variance_"
      ],
      "execution_count": null,
      "outputs": [
        {
          "output_type": "execute_result",
          "data": {
            "text/plain": [
              "array([3.29410182, 2.45565815])"
            ]
          },
          "metadata": {
            "tags": []
          },
          "execution_count": 299
        }
      ]
    },
    {
      "cell_type": "code",
      "metadata": {
        "id": "YqWQVRIaazxS",
        "outputId": "f3c46c42-d3b7-4962-8e80-e371697a2d65"
      },
      "source": [
        "explained_variance = pd.DataFrame(pca.explained_variance_)\n",
        "explained_variance.head().plot.bar(legend=False, figsize=(4,4));"
      ],
      "execution_count": null,
      "outputs": [
        {
          "output_type": "display_data",
          "data": {
            "image/png": "[encoded data removed]",
            "text/plain": [
              "<Figure size 288x288 with 1 Axes>"
            ]
          },
          "metadata": {
            "tags": [],
            "needs_background": "light"
          }
        }
      ]
    },
    {
      "cell_type": "code",
      "metadata": {
        "id": "HXBlsdn0azxT",
        "outputId": "a2f94a1e-d27d-4df7-c246-5e40a3617224"
      },
      "source": [
        "sns.scatterplot(x=Z_scaled[:, 0], y=Z_scaled[:, 1], hue=y);"
      ],
      "execution_count": null,
      "outputs": [
        {
          "output_type": "display_data",
          "data": {
            "image/png": "[encoded data removed]",
            "text/plain": [
              "<Figure size 432x288 with 1 Axes>"
            ]
          },
          "metadata": {
            "tags": [],
            "needs_background": "light"
          }
        }
      ]
    },
    {
      "cell_type": "code",
      "metadata": {
        "id": "DwfeEQXyazxT",
        "outputId": "6e9cd298-f5a7-4b31-9f02-214b0d8c1e41"
      },
      "source": [
        "coeff_pca = pd.DataFrame(pca.components_, columns=X.columns)\n",
        "coeff_pca"
      ],
      "execution_count": null,
      "outputs": [
        {
          "output_type": "execute_result",
          "data": {
            "text/html": [
              "<div>\n",
              "<style scoped>\n",
              "    .dataframe tbody tr th:only-of-type {\n",
              "        vertical-align: middle;\n",
              "    }\n",
              "\n",
              "    .dataframe tbody tr th {\n",
              "        vertical-align: top;\n",
              "    }\n",
              "\n",
              "    .dataframe thead th {\n",
              "        text-align: right;\n",
              "    }\n",
              "</style>\n",
              "<table border=\"1\" class=\"dataframe\">\n",
              "  <thead>\n",
              "    <tr style=\"text-align: right;\">\n",
              "      <th></th>\n",
              "      <th>Sq_Ft_Tot_Living</th>\n",
              "      <th>Sq_Ft_Lot</th>\n",
              "      <th>Bathroom_count</th>\n",
              "      <th>Bedroom_count</th>\n",
              "      <th>Bldg_Grade</th>\n",
              "      <th>Nbr_Living_Units</th>\n",
              "      <th>Sq_Ft_Fin_Basement</th>\n",
              "      <th>Yr_Built</th>\n",
              "      <th>Yr_Renovated</th>\n",
              "      <th>Newly_Construction</th>\n",
              "      <th>Property_Multiplex</th>\n",
              "      <th>Property_Single Family</th>\n",
              "      <th>Property_Townhouse</th>\n",
              "    </tr>\n",
              "  </thead>\n",
              "  <tbody>\n",
              "    <tr>\n",
              "      <th>0</th>\n",
              "      <td>0.512082</td>\n",
              "      <td>0.117685</td>\n",
              "      <td>0.486892</td>\n",
              "      <td>0.383291</td>\n",
              "      <td>0.450928</td>\n",
              "      <td>0.051586</td>\n",
              "      <td>0.205596</td>\n",
              "      <td>0.268519</td>\n",
              "      <td>0.021177</td>\n",
              "      <td>0.121694</td>\n",
              "      <td>0.024686</td>\n",
              "      <td>0.036475</td>\n",
              "      <td>-0.048776</td>\n",
              "    </tr>\n",
              "    <tr>\n",
              "      <th>1</th>\n",
              "      <td>-0.097428</td>\n",
              "      <td>-0.092618</td>\n",
              "      <td>0.084312</td>\n",
              "      <td>-0.141620</td>\n",
              "      <td>0.056670</td>\n",
              "      <td>0.120033</td>\n",
              "      <td>-0.185344</td>\n",
              "      <td>0.326296</td>\n",
              "      <td>-0.130939</td>\n",
              "      <td>0.331622</td>\n",
              "      <td>0.145109</td>\n",
              "      <td>-0.579181</td>\n",
              "      <td>0.559194</td>\n",
              "    </tr>\n",
              "  </tbody>\n",
              "</table>\n",
              "</div>"
            ],
            "text/plain": [
              "   Sq_Ft_Tot_Living  Sq_Ft_Lot  Bathroom_count  Bedroom_count  Bldg_Grade  \\\n",
              "0          0.512082   0.117685        0.486892       0.383291    0.450928   \n",
              "1         -0.097428  -0.092618        0.084312      -0.141620    0.056670   \n",
              "\n",
              "   Nbr_Living_Units  Sq_Ft_Fin_Basement  Yr_Built  Yr_Renovated  \\\n",
              "0          0.051586            0.205596  0.268519      0.021177   \n",
              "1          0.120033           -0.185344  0.326296     -0.130939   \n",
              "\n",
              "   Newly_Construction  Property_Multiplex  Property_Single Family  \\\n",
              "0            0.121694            0.024686                0.036475   \n",
              "1            0.331622            0.145109               -0.579181   \n",
              "\n",
              "   Property_Townhouse  \n",
              "0           -0.048776  \n",
              "1            0.559194  "
            ]
          },
          "metadata": {
            "tags": []
          },
          "execution_count": 175
        }
      ]
    },
    {
      "cell_type": "markdown",
      "metadata": {
        "id": "FuaCOlaBazxT"
      },
      "source": [
        "#### Using a scaled output"
      ]
    },
    {
      "cell_type": "code",
      "metadata": {
        "id": "T1_oUz3qazxT",
        "outputId": "1c75bc8d-ef08-40cd-d39a-1f96e590bafa"
      },
      "source": [
        "pca = PCA(n_components=2) # initialize PCA\n",
        "X_trs = scale(X_train) # X train scaled\n",
        "X_tss = scale(X_test) # X test scaled\n",
        "pca.fit(X_scaled) # fit the PCA first\n",
        "Xpca_trs = pca.transform(X_trs) # tranformation block\n",
        "Xpca_tss = pca.transform(X_tss) # tranformation block\n",
        "pcr = LinearRegression() # Principal component regression initialization\n",
        "pcr.fit(Xpca_trs, y_train) # fitting block\n",
        "print('R-Square:',pcr.score(Xpca_trs, y_train)) # scoring block"
      ],
      "execution_count": null,
      "outputs": [
        {
          "output_type": "stream",
          "text": [
            "R-Square: 0.408671304032067\n"
          ],
          "name": "stdout"
        }
      ]
    },
    {
      "cell_type": "code",
      "metadata": {
        "id": "J7faZ5_YazxU",
        "outputId": "60bbbfd3-4f7b-425e-cfd4-441a4e382bdc"
      },
      "source": [
        "# Using an unscaled output\n",
        "Xpca= pca.transform(X_trs) # tranformation block\n",
        "Xpcs= pca.transform(X_tss)\n",
        "pcr.fit(Xpca, y_train) # fitting block\n",
        "print('R-Square:',pcr.score(Xpca, y_train)) # scoring block"
      ],
      "execution_count": null,
      "outputs": [
        {
          "output_type": "stream",
          "text": [
            "R-Square: 0.408671304032067\n"
          ],
          "name": "stdout"
        }
      ]
    },
    {
      "cell_type": "markdown",
      "metadata": {
        "id": "GHN7L1BDazxU"
      },
      "source": [
        "### Variable selection"
      ]
    },
    {
      "cell_type": "code",
      "metadata": {
        "id": "m9LlQ5RhazxV",
        "outputId": "ce98a00d-320d-4a0d-8fb7-c0b5b63664db"
      },
      "source": [
        "sel = SelectFromModel(RandomForestRegressor(n_estimators=10, random_state=42), threshold=0.02) # added my threshold\n",
        "sel.fit(X_train, y_train)\n",
        "selected_features = X_train.columns[sel.get_support()]\n",
        "selected_features\n",
        "#SelectFromModel()"
      ],
      "execution_count": null,
      "outputs": [
        {
          "output_type": "execute_result",
          "data": {
            "text/plain": [
              "Index(['Sq_Ft_Tot_Living', 'Sq_Ft_Lot', 'Bathroom_count', 'Bldg_Grade',\n",
              "       'Sq_Ft_Fin_Basement', 'Yr_Built'],\n",
              "      dtype='object')"
            ]
          },
          "metadata": {
            "tags": []
          },
          "execution_count": 376
        }
      ]
    },
    {
      "cell_type": "code",
      "metadata": {
        "id": "fL5ayLKhazxV",
        "outputId": "c11540e7-5951-49e5-d385-287bb451ebd9"
      },
      "source": [
        "feat_selection_model = LinearRegression() # Initialize model\n",
        "feat_selection_model.fit(X_train[selected_features],y_train) # fit the model on training data\n",
        "feat_selection_model.score(X_train[selected_features],y_train) # score the model on training data\n",
        "print('R-Square:',feat_selection_model.score(X_train[selected_features],y_train))\n",
        "y_pred_feat_selection = feat_selection_model.predict(X_test[selected_features]) # predict on testing data\n",
        "mae_feat_selection = mean_absolute_error(y_test, y_pred_feat_selection) # Determine the error\n",
        "print(f'Mean Absolute Error: {mae_feat_selection}')"
      ],
      "execution_count": null,
      "outputs": [
        {
          "output_type": "stream",
          "text": [
            "R-Square: 0.573924942860768\n",
            "Mean Absolute Error: 137950.1101801365\n"
          ],
          "name": "stdout"
        }
      ]
    },
    {
      "cell_type": "markdown",
      "metadata": {
        "id": "k9dL5TOAazxW"
      },
      "source": [
        "Minor improvement from the PCA regression using less features but wether using all features or a select few we still dont exceed 58% accuracy."
      ]
    },
    {
      "cell_type": "markdown",
      "metadata": {
        "id": "BwKGG3m0azxW"
      },
      "source": [
        "### Linear model with regression"
      ]
    },
    {
      "cell_type": "code",
      "metadata": {
        "id": "f_0BfrdnazxW",
        "outputId": "5afef244-2f0d-4e52-f158-37ba6d9e9fb4"
      },
      "source": [
        "lr = LinearRegression()\n",
        "lr.fit(X_train, y_train)"
      ],
      "execution_count": null,
      "outputs": [
        {
          "output_type": "execute_result",
          "data": {
            "text/plain": [
              "LinearRegression()"
            ]
          },
          "metadata": {
            "tags": []
          },
          "execution_count": 384
        }
      ]
    },
    {
      "cell_type": "code",
      "metadata": {
        "id": "5KNgPJLmazxW"
      },
      "source": [
        "y_pred = lr.predict(X_train)"
      ],
      "execution_count": null,
      "outputs": []
    },
    {
      "cell_type": "code",
      "metadata": {
        "id": "dL9D6B-bazxX",
        "outputId": "cf89e98c-2b33-4ce9-f1db-e367b78e4569"
      },
      "source": [
        "print('The accuracy using Linear regression is:' ,lr.score(X_train, y_train))"
      ],
      "execution_count": null,
      "outputs": [
        {
          "output_type": "stream",
          "text": [
            "The accuracy using Linear regression is: 0.5852763840326671\n"
          ],
          "name": "stdout"
        }
      ]
    },
    {
      "cell_type": "markdown",
      "metadata": {
        "id": "AazCWlUeazxY"
      },
      "source": [
        "We can see that ordinary linear regression seems to competively perform with these other methods."
      ]
    },
    {
      "cell_type": "markdown",
      "metadata": {
        "id": "JE8HYkEVfkjs"
      },
      "source": [
        "## [Still to come]: \n",
        "\n",
        "I plan to add even more features and see if regression manages to shrink out the coefficients. I will in the next days \n",
        "\n",
        "* Add more hand crafted features: Square, Cube the colunms. The additional columns will not make physical sense, but you will be surprised by the increase in performance.\n",
        "* Create categorical features out of numerical ones.\n",
        "```\n",
        "loan_data['score_factor'] = np.where(loan_data['borrower_score']> 0.5, True, False)\n",
        "```\n",
        "\n",
        "* Load the full dataset ('house.csv'). You will find even more features that you can use.\n",
        "\n",
        "Also i may add multiple additional features and perform regularization\n",
        "\n",
        "Stay tuned!"
      ]
    },
    {
      "cell_type": "code",
      "metadata": {
        "id": "KG4qo3uggh7q"
      },
      "source": [
        ""
      ],
      "execution_count": null,
      "outputs": []
    },
    {
      "cell_type": "code",
      "metadata": {
        "id": "oc8qdhqIghxQ"
      },
      "source": [
        ""
      ],
      "execution_count": null,
      "outputs": []
    },
    {
      "cell_type": "code",
      "metadata": {
        "id": "lc-vVc2jghkJ"
      },
      "source": [
        ""
      ],
      "execution_count": null,
      "outputs": []
    }
  ]
}